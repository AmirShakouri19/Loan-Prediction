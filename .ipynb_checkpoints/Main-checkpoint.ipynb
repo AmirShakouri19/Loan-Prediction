{
 "cells": [
  {
   "cell_type": "markdown",
   "id": "2eca3157-e7c5-4d5a-a991-feefdecddb93",
   "metadata": {},
   "source": [
    "# Importing the required libraries "
   ]
  },
  {
   "cell_type": "code",
   "execution_count": 7,
   "id": "e6e6b832-8882-47e2-a511-6666ed58797d",
   "metadata": {},
   "outputs": [],
   "source": [
    "import pandas as pd\n",
    "import numpy as np\n",
    "from sklearn.impute import SimpleImputer\n",
    "from sklearn.pipeline import Pipeline, FeatureUnion\n",
    "from sklearn.preprocessing import StandardScaler,OneHotEncoder,FunctionTransformer\n",
    "from sklearn.compose import ColumnTransformer\n",
    "from sklearn.feature_selection import SelectKBest\n",
    "from sklearn.decomposition import PCA\n",
    "from sklearn.tree import DecisionTreeClassifier\n",
    "from sklearn.naive_bayes import GaussianNB\n",
    "from sklearn.ensemble import RandomForestClassifier, GradientBoostingClassifier\n",
    "from sklearn.model_selection import GridSearchCV,train_test_split\n",
    "from sklearn.metrics import accuracy_score, plot_confusion_matrix\n",
    "import cloudpickle\n",
    "import pickle"
   ]
  },
  {
   "cell_type": "markdown",
   "id": "a6b33671-5f35-430b-bc03-bd29b985c888",
   "metadata": {},
   "source": [
    "# Importing the data and forming raw features and target dataframes"
   ]
  },
  {
   "cell_type": "code",
   "execution_count": 8,
   "id": "84943316-e57e-4c33-9d75-7ee1895b1002",
   "metadata": {},
   "outputs": [],
   "source": [
    "df = pd.read_csv(\"data.csv\")\n",
    "X = df.drop(columns=['Loan_ID'])\n",
    "y = X['Loan_Status']\n",
    "y = y.replace({'Y': 1, 'N':0}).values\n",
    "X = X.drop(columns='Loan_Status')"
   ]
  },
  {
   "cell_type": "code",
   "execution_count": null,
   "id": "1e218ffc-1ac3-46a3-bd5d-9634d238caba",
   "metadata": {},
   "outputs": [],
   "source": []
  },
  {
   "cell_type": "markdown",
   "id": "e5682446-d721-4ad1-8f5b-e0faee3b2766",
   "metadata": {},
   "source": [
    "# Splitting dataframes for training and testing"
   ]
  },
  {
   "cell_type": "code",
   "execution_count": 9,
   "id": "e2feaac2-207d-4b9b-99a8-91bf11e07b71",
   "metadata": {},
   "outputs": [],
   "source": [
    "X_train, X_test, y_train, y_test = train_test_split(X, y, train_size=0.8, test_size=0.2, random_state=123)"
   ]
  },
  {
   "cell_type": "markdown",
   "id": "d8b9eaa9-3330-4550-b1af-978a7614cf0a",
   "metadata": {},
   "source": [
    "# Building standardization piplines"
   ]
  },
  {
   "cell_type": "code",
   "execution_count": 71,
   "id": "a6bf979b-ebf4-4e17-828e-54a9510ccf49",
   "metadata": {},
   "outputs": [],
   "source": [
    "numeric_standardization = Pipeline([('impute_mean', SimpleImputer(strategy='mean')),\n",
    "                              ('scaling', StandardScaler())])\n",
    "categorical_standardization = Pipeline([('impute_mode', SimpleImputer(strategy='most_frequent')),\n",
    "                                  ('one-hot-encode', OneHotEncoder(sparse=False))])"
   ]
  },
  {
   "cell_type": "code",
   "execution_count": null,
   "id": "83c515f9-b864-4d8e-b0bc-c98929676ce1",
   "metadata": {},
   "outputs": [],
   "source": []
  },
  {
   "cell_type": "code",
   "execution_count": null,
   "id": "40ae406f-2473-494e-b7f8-b5a62e38f0e7",
   "metadata": {},
   "outputs": [],
   "source": []
  },
  {
   "cell_type": "markdown",
   "id": "f41f52ba-de5b-4728-9425-64cc83279f6d",
   "metadata": {},
   "source": [
    "# Defining transformations (filters) for filtering numeric and categorical features"
   ]
  },
  {
   "cell_type": "code",
   "execution_count": 72,
   "id": "10d343a5-6d03-456e-90d8-667d4baa46f2",
   "metadata": {},
   "outputs": [],
   "source": [
    "def numFeat(data):\n",
    "    cat_feats = catFeat(data)\n",
    "    num_feats = data.dtypes[~data.dtypes.index.isin(cat_feats)].index.tolist()\n",
    "    return data[num_feats]\n",
    "\n",
    "def catFeat(data):\n",
    "    cat_feats = data.dtypes[data.dtypes == 'object'].index.tolist()\n",
    "    return data[cat_feats]\n",
    "\n",
    "# we will start two separate pipelines for each type of features\n",
    "keep_num = FunctionTransformer(numFeat)\n",
    "keep_cat = FunctionTransformer(catFeat)"
   ]
  },
  {
   "cell_type": "markdown",
   "id": "bec3f62b-24d1-4b59-ae5d-d3b63085c5d2",
   "metadata": {},
   "source": [
    "# Defining transformations to deal with outliers in numeric features"
   ]
  },
  {
   "cell_type": "code",
   "execution_count": 73,
   "id": "429b850d-8700-45a5-a2bb-9926f27a9114",
   "metadata": {},
   "outputs": [],
   "source": [
    "def total_log_transform(X):\n",
    "    X = X.assign(Total_Income_Log= np.log10(X[['ApplicantIncome', 'CoapplicantIncome']].sum(axis=1)))\n",
    "    X = X.assign(LoanAmount_Log = np.log10(X[['LoanAmount']]))\n",
    "    X = X.drop(columns=['ApplicantIncome', 'CoapplicantIncome','LoanAmount'])\n",
    "    return X\n",
    "\n",
    "total_log_transform_object = FunctionTransformer(total_log_transform)"
   ]
  },
  {
   "cell_type": "markdown",
   "id": "b0a7b578-50f8-45a6-9a19-4212278bb81e",
   "metadata": {},
   "source": [
    "#total_log_transform(X_train)"
   ]
  },
  {
   "cell_type": "markdown",
   "id": "ca81bca8-8223-4ea3-94f8-adcb15fcd3c1",
   "metadata": {},
   "source": [
    "# Building pipelines for numeric features"
   ]
  },
  {
   "cell_type": "code",
   "execution_count": 75,
   "id": "3351a361-dab2-40e9-9f1d-58793070d9d4",
   "metadata": {},
   "outputs": [],
   "source": [
    "numeric_transform = Pipeline([('total_log',total_log_transform_object),\n",
    "                              ('select_numeric', keep_num),\n",
    "                              ('impute_mean', SimpleImputer(strategy='mean')),\n",
    "                              ('scaling', StandardScaler()),\n",
    "                              ('pca', PCA())])"
   ]
  },
  {
   "cell_type": "code",
   "execution_count": 76,
   "id": "1591017c-2a3f-4f17-9405-d7d7b1404d52",
   "metadata": {},
   "outputs": [],
   "source": [
    "#numeric_transform.fit(X_train)"
   ]
  },
  {
   "cell_type": "markdown",
   "id": "6f00ca94-a6cf-49e6-932c-50bf9abe2401",
   "metadata": {},
   "source": [
    "# Building pipelines for categorical features"
   ]
  },
  {
   "cell_type": "code",
   "execution_count": 77,
   "id": "9506a65f-bc39-4c24-93b0-477ee3b076e0",
   "metadata": {},
   "outputs": [],
   "source": [
    "categorical_transform = Pipeline([('select_categorical', keep_cat),\n",
    "                                  ('impute_mode', SimpleImputer(strategy='most_frequent')),\n",
    "                                  ('one-hot-encode', OneHotEncoder(sparse=False)),\n",
    "                                  ('select_best', SelectKBest())])"
   ]
  },
  {
   "cell_type": "code",
   "execution_count": 78,
   "id": "140bcce0-2011-4e45-a4d1-c5c074280f2e",
   "metadata": {},
   "outputs": [],
   "source": [
    "#categorical_transform.fit(X_train)"
   ]
  },
  {
   "cell_type": "markdown",
   "id": "90f230ac-ac00-41ba-9aba-e3fd8b267537",
   "metadata": {},
   "source": [
    "# Unifying the features"
   ]
  },
  {
   "cell_type": "code",
   "execution_count": 79,
   "id": "dbb2a0fc-ed7a-4630-bada-a5ae14e2eda3",
   "metadata": {},
   "outputs": [],
   "source": [
    "feature_union = FeatureUnion([('numeric_transform', numeric_transform),\n",
    "                              ('categorical_transform', categorical_transform)])"
   ]
  },
  {
   "cell_type": "markdown",
   "id": "70842288-1bf3-4f06-9638-c8425865d4f5",
   "metadata": {},
   "source": [
    "# Building the modeling pipeline"
   ]
  },
  {
   "cell_type": "code",
   "execution_count": 80,
   "id": "c8194970-6159-4598-9a40-dea7a96f8d06",
   "metadata": {},
   "outputs": [],
   "source": [
    "baseline_model_pipeline = Pipeline(steps=[('features', feature_union),\n",
    "                                 ('classifier', DecisionTreeClassifier())])"
   ]
  },
  {
   "cell_type": "code",
   "execution_count": 81,
   "id": "10927bd1-a633-4fde-a0f0-1d466586b020",
   "metadata": {},
   "outputs": [],
   "source": [
    "#baseline_model_pipeline.fit(X_train, y_train)"
   ]
  },
  {
   "cell_type": "markdown",
   "id": "7263c626-64f8-423d-ad70-57ea14314f31",
   "metadata": {},
   "source": [
    "# Grid search for baseline model, looking for best model and features selection parameters"
   ]
  },
  {
   "cell_type": "code",
   "execution_count": 61,
   "id": "2de71026-0361-4d1d-bc25-758be12c9718",
   "metadata": {},
   "outputs": [
    {
     "name": "stdout",
     "output_type": "stream",
     "text": [
      "Best test set accuracy: 0.7886178861788617\n",
      "Achieved with hyperparameters: {'classifier': RandomForestClassifier(), 'features__categorical_transform__select_best__k': 5, 'features__numeric_transform__pca__n_components': 4}\n"
     ]
    }
   ],
   "source": [
    "params = {'features__numeric_transform__pca__n_components':[2,3,4],\n",
    "          'features__categorical_transform__select_best__k':[1,2,3,4,5,6,7],\n",
    "          'classifier': [DecisionTreeClassifier(), GaussianNB(), RandomForestClassifier(), GradientBoostingClassifier()] }\n",
    "\n",
    "grid = GridSearchCV(baseline_model_pipeline, param_grid=params, cv=5)\n",
    "grid.fit(X_train,y_train)\n",
    "\n",
    "\n",
    "best_hyperprameters = grid.best_params_\n",
    "best_acc = grid.score(X_test,y_test)\n",
    "\n",
    "print(f'Best test set accuracy: {best_acc}\\nAchieved with hyperparameters: {best_hyperprameters}')"
   ]
  },
  {
   "cell_type": "code",
   "execution_count": 385,
   "id": "31ba1785-86ec-499f-b0cb-6aa323d540f6",
   "metadata": {},
   "outputs": [],
   "source": []
  },
  {
   "cell_type": "markdown",
   "id": "20d084d3-177f-46f0-a4da-8f0e3cde0ca4",
   "metadata": {},
   "source": [
    "# Grid search for selected model, looking for best model parameters"
   ]
  },
  {
   "cell_type": "code",
   "execution_count": 82,
   "id": "4df989b5-b01c-4316-94a8-65b76950b4c4",
   "metadata": {},
   "outputs": [
    {
     "name": "stdout",
     "output_type": "stream",
     "text": [
      "Best test set accuracy: 0.7886178861788617\n",
      "Achieved with hyperparameters: {'classifier__max_depth': 6, 'classifier__n_estimators': 50, 'features__categorical_transform__select_best__k': 5, 'features__numeric_transform__pca__n_components': 4}\n"
     ]
    }
   ],
   "source": [
    "model_pipeline = Pipeline(steps=[('features', feature_union),\n",
    "                                 ('classifier', RandomForestClassifier())])\n",
    "\n",
    "params = {'features__numeric_transform__pca__n_components':[4],\n",
    "          'features__categorical_transform__select_best__k':[5],\n",
    "          'classifier__max_depth': [2,3,4,5,6,7],\n",
    "          'classifier__n_estimators': [10,20,30,40,50,60,70]}\n",
    "\n",
    "grid = GridSearchCV(model_pipeline, param_grid=params, cv=10)\n",
    "grid.fit(X_train,y_train)\n",
    "\n",
    "\n",
    "best_hyperprameters = grid.best_params_\n",
    "best_acc = grid.score(X_test,y_test)\n",
    "\n",
    "print(f'Best test set accuracy: {best_acc}\\nAchieved with hyperparameters: {best_hyperprameters}')"
   ]
  },
  {
   "cell_type": "code",
   "execution_count": null,
   "id": "046b0a30-6360-4ade-b36a-7874d7afca00",
   "metadata": {},
   "outputs": [],
   "source": []
  },
  {
   "cell_type": "code",
   "execution_count": null,
   "id": "86b2006f-efe1-4993-bb9f-0d4af12327c9",
   "metadata": {},
   "outputs": [],
   "source": []
  },
  {
   "cell_type": "markdown",
   "id": "82457de6-481e-4568-8b4e-bddc2ae463dc",
   "metadata": {},
   "source": [
    "# Tesing the final model"
   ]
  },
  {
   "cell_type": "code",
   "execution_count": 83,
   "id": "9c84305a-fac9-42cd-861d-37921406e203",
   "metadata": {},
   "outputs": [
    {
     "name": "stdout",
     "output_type": "stream",
     "text": [
      "Test set accuracy: 0.7804878048780488\n"
     ]
    }
   ],
   "source": [
    "numeric_transform = Pipeline([('total_log',total_log_transform_object),\n",
    "                              ('select_numeric', keep_num),\n",
    "                              ('impute_mean', SimpleImputer(strategy='mean')),\n",
    "                              ('scaling', StandardScaler()),\n",
    "                              ('pca', PCA(n_components=5))])\n",
    "\n",
    "categorical_transform = Pipeline([('select_categorical', keep_cat),\n",
    "                                  ('impute_mode', SimpleImputer(strategy='most_frequent')),\n",
    "                                  ('one-hot-encode', OneHotEncoder(sparse=False)),\n",
    "                                  ('select_best', SelectKBest(k=6))])\n",
    "\n",
    "final_model_pipeline = Pipeline(steps=[('features', feature_union),\n",
    "                                 ('classifier', RandomForestClassifier(max_depth=3,n_estimators=40))])\n",
    "\n",
    "final_model_pipeline.fit(X_train, y_train)\n",
    "\n",
    "y_pred = final_model_pipeline.predict(X_test)\n",
    "\n",
    "acc = accuracy_score(y_test, y_pred)\n",
    "print(f'Test set accuracy: {acc}')"
   ]
  },
  {
   "cell_type": "markdown",
   "id": "adb27d3a-707f-40af-bc62-87c04ccc437f",
   "metadata": {},
   "source": [
    "# Save the model as pickle"
   ]
  },
  {
   "cell_type": "code",
   "execution_count": 497,
   "id": "79186d23-f87a-4821-97c6-43e4ad374244",
   "metadata": {},
   "outputs": [],
   "source": [
    "#pickle.dump(final_model_pipeline, open('model.pkl', 'wb'))\n",
    "\n",
    "with open('model.clpkl', 'wb') as f:\n",
    "    cloudpickle.dump(final_model_pipeline,f)"
   ]
  },
  {
   "cell_type": "markdown",
   "id": "ef7cf4e3-59da-4710-9b85-b51175022156",
   "metadata": {},
   "source": [
    "# Testing the pickle model"
   ]
  },
  {
   "cell_type": "code",
   "execution_count": 10,
   "id": "0decf548-3ef6-43be-889e-fb682a4d2c17",
   "metadata": {},
   "outputs": [
    {
     "name": "stdout",
     "output_type": "stream",
     "text": [
      "0.7804878048780488\n"
     ]
    }
   ],
   "source": [
    "#model = pickle.load(open('model.pkl', 'rb'))\n",
    "#model = pickle.load(open('model.clpkl', 'rb'))\n",
    "\n",
    "with open('model.clpkl', 'rb') as f:\n",
    "    model = cloudpickle.load(f)\n",
    "\n",
    "result = model.score(X_test,y_test)\n",
    "print(result)"
   ]
  },
  {
   "cell_type": "code",
   "execution_count": 10,
   "id": "6db184f6-9c1e-443f-9857-19d88be8fbcd",
   "metadata": {},
   "outputs": [],
   "source": [
    "df0 = X_test.iloc[:1,:]\n",
    "test = df0.to_json(orient='records')\n",
    "#df = pd.DataFrame(test.values(), index =test.keys())\n",
    "#df = X_test.iloc[:5,:]"
   ]
  },
  {
   "cell_type": "code",
   "execution_count": 11,
   "id": "72509702-ac43-4f9e-8878-00c9cfd4ebf7",
   "metadata": {},
   "outputs": [
    {
     "data": {
      "text/plain": [
       "'[{\"Gender\":\"Male\",\"Married\":\"Yes\",\"Dependents\":\"1\",\"Education\":\"Graduate\",\"Self_Employed\":\"No\",\"ApplicantIncome\":1880,\"CoapplicantIncome\":0.0,\"LoanAmount\":61.0,\"Loan_Amount_Term\":360.0,\"Credit_History\":null,\"Property_Area\":\"Rural\"}]'"
      ]
     },
     "execution_count": 11,
     "metadata": {},
     "output_type": "execute_result"
    }
   ],
   "source": [
    "test"
   ]
  },
  {
   "cell_type": "code",
   "execution_count": 12,
   "id": "ac106aa8-12e3-4b05-91f8-bb442f2baef7",
   "metadata": {},
   "outputs": [],
   "source": [
    "test = {\"Gender\":\"Male\",\"Married\":\"Yes\",\"Dependents\":\"1\",\"Education\":\"Graduate\",\"Self_Employed\":\"No\",\"ApplicantIncome\":1880.0,\"CoapplicantIncome\":0.0,\"LoanAmount\":61.0,\"Loan_Amount_Term\":360.0,\"Credit_History\":1.0,\"Property_Area\":\"Rural\"}"
   ]
  },
  {
   "cell_type": "code",
   "execution_count": 13,
   "id": "07f0f0f5-18b4-483e-9235-c9cbaffeb4fa",
   "metadata": {},
   "outputs": [
    {
     "data": {
      "text/plain": [
       "float"
      ]
     },
     "execution_count": 13,
     "metadata": {},
     "output_type": "execute_result"
    }
   ],
   "source": [
    "type(test['Loan_Amount_Term'])"
   ]
  },
  {
   "cell_type": "code",
   "execution_count": 14,
   "id": "3855ad73-39d7-4a2a-9cf6-ad1fe03d337c",
   "metadata": {},
   "outputs": [],
   "source": [
    "df = pd.DataFrame(test.values(), index =test.keys()).transpose()"
   ]
  },
  {
   "cell_type": "code",
   "execution_count": 15,
   "id": "78eabefe-ffb1-4ea6-966a-4a43f6ead60d",
   "metadata": {},
   "outputs": [
    {
     "data": {
      "text/html": [
       "<div>\n",
       "<style scoped>\n",
       "    .dataframe tbody tr th:only-of-type {\n",
       "        vertical-align: middle;\n",
       "    }\n",
       "\n",
       "    .dataframe tbody tr th {\n",
       "        vertical-align: top;\n",
       "    }\n",
       "\n",
       "    .dataframe thead th {\n",
       "        text-align: right;\n",
       "    }\n",
       "</style>\n",
       "<table border=\"1\" class=\"dataframe\">\n",
       "  <thead>\n",
       "    <tr style=\"text-align: right;\">\n",
       "      <th></th>\n",
       "      <th>Gender</th>\n",
       "      <th>Married</th>\n",
       "      <th>Dependents</th>\n",
       "      <th>Education</th>\n",
       "      <th>Self_Employed</th>\n",
       "      <th>ApplicantIncome</th>\n",
       "      <th>CoapplicantIncome</th>\n",
       "      <th>LoanAmount</th>\n",
       "      <th>Loan_Amount_Term</th>\n",
       "      <th>Credit_History</th>\n",
       "      <th>Property_Area</th>\n",
       "    </tr>\n",
       "  </thead>\n",
       "  <tbody>\n",
       "    <tr>\n",
       "      <th>583</th>\n",
       "      <td>Male</td>\n",
       "      <td>Yes</td>\n",
       "      <td>1</td>\n",
       "      <td>Graduate</td>\n",
       "      <td>No</td>\n",
       "      <td>1880</td>\n",
       "      <td>0.0</td>\n",
       "      <td>61.0</td>\n",
       "      <td>360.0</td>\n",
       "      <td>NaN</td>\n",
       "      <td>Rural</td>\n",
       "    </tr>\n",
       "  </tbody>\n",
       "</table>\n",
       "</div>"
      ],
      "text/plain": [
       "    Gender Married Dependents Education Self_Employed  ApplicantIncome  \\\n",
       "583   Male     Yes          1  Graduate            No             1880   \n",
       "\n",
       "     CoapplicantIncome  LoanAmount  Loan_Amount_Term  Credit_History  \\\n",
       "583                0.0        61.0             360.0             NaN   \n",
       "\n",
       "    Property_Area  \n",
       "583         Rural  "
      ]
     },
     "execution_count": 15,
     "metadata": {},
     "output_type": "execute_result"
    }
   ],
   "source": [
    "df0"
   ]
  },
  {
   "cell_type": "code",
   "execution_count": 16,
   "id": "61ca8d87-304d-4e2d-aa56-03baed582da5",
   "metadata": {},
   "outputs": [
    {
     "data": {
      "text/plain": [
       "numpy.float64"
      ]
     },
     "execution_count": 16,
     "metadata": {},
     "output_type": "execute_result"
    }
   ],
   "source": [
    "type(df0.iloc[0]['Loan_Amount_Term'])"
   ]
  },
  {
   "cell_type": "code",
   "execution_count": 17,
   "id": "e5a3d539-0150-4f58-922d-a09328ee7f3e",
   "metadata": {},
   "outputs": [
    {
     "data": {
      "text/html": [
       "<div>\n",
       "<style scoped>\n",
       "    .dataframe tbody tr th:only-of-type {\n",
       "        vertical-align: middle;\n",
       "    }\n",
       "\n",
       "    .dataframe tbody tr th {\n",
       "        vertical-align: top;\n",
       "    }\n",
       "\n",
       "    .dataframe thead th {\n",
       "        text-align: right;\n",
       "    }\n",
       "</style>\n",
       "<table border=\"1\" class=\"dataframe\">\n",
       "  <thead>\n",
       "    <tr style=\"text-align: right;\">\n",
       "      <th></th>\n",
       "      <th>Gender</th>\n",
       "      <th>Married</th>\n",
       "      <th>Dependents</th>\n",
       "      <th>Education</th>\n",
       "      <th>Self_Employed</th>\n",
       "      <th>ApplicantIncome</th>\n",
       "      <th>CoapplicantIncome</th>\n",
       "      <th>LoanAmount</th>\n",
       "      <th>Loan_Amount_Term</th>\n",
       "      <th>Credit_History</th>\n",
       "      <th>Property_Area</th>\n",
       "    </tr>\n",
       "  </thead>\n",
       "  <tbody>\n",
       "    <tr>\n",
       "      <th>0</th>\n",
       "      <td>Male</td>\n",
       "      <td>Yes</td>\n",
       "      <td>1</td>\n",
       "      <td>Graduate</td>\n",
       "      <td>No</td>\n",
       "      <td>1880</td>\n",
       "      <td>0</td>\n",
       "      <td>61</td>\n",
       "      <td>360</td>\n",
       "      <td>1</td>\n",
       "      <td>Rural</td>\n",
       "    </tr>\n",
       "  </tbody>\n",
       "</table>\n",
       "</div>"
      ],
      "text/plain": [
       "  Gender Married Dependents Education Self_Employed ApplicantIncome  \\\n",
       "0   Male     Yes          1  Graduate            No            1880   \n",
       "\n",
       "  CoapplicantIncome LoanAmount Loan_Amount_Term Credit_History Property_Area  \n",
       "0                 0         61              360              1         Rural  "
      ]
     },
     "execution_count": 17,
     "metadata": {},
     "output_type": "execute_result"
    }
   ],
   "source": [
    "df"
   ]
  },
  {
   "cell_type": "code",
   "execution_count": 18,
   "id": "1a8db120-f8e1-41a7-8880-c8b551630cf8",
   "metadata": {},
   "outputs": [
    {
     "data": {
      "text/plain": [
       "numpy.float64"
      ]
     },
     "execution_count": 18,
     "metadata": {},
     "output_type": "execute_result"
    }
   ],
   "source": [
    "df = df.astype({'ApplicantIncome': np.float64, 'CoapplicantIncome': np.float64, 'LoanAmount': np.float64, 'Loan_Amount_Term': np.float64, 'Credit_History': np.float64})\n",
    "type(df.iloc[0]['Loan_Amount_Term'])"
   ]
  },
  {
   "cell_type": "code",
   "execution_count": 26,
   "id": "0ad48bec-e1e1-4f24-a6f3-0400b6246e88",
   "metadata": {},
   "outputs": [
    {
     "name": "stdout",
     "output_type": "stream",
     "text": [
      "[1]\n"
     ]
    }
   ],
   "source": [
    "result = model.predict(df)\n",
    "print(result)"
   ]
  },
  {
   "cell_type": "markdown",
   "id": "1ff7ad5a-1d63-4fff-b08a-ecd470d3a1b3",
   "metadata": {},
   "source": [
    "# Testing the deployed mode"
   ]
  },
  {
   "cell_type": "code",
   "execution_count": 19,
   "id": "cee21e90-fa6e-47e2-81eb-3fd36fd10b56",
   "metadata": {},
   "outputs": [],
   "source": [
    "import requests as r\n",
    "import pandas as pd\n",
    "import json"
   ]
  },
  {
   "cell_type": "code",
   "execution_count": 22,
   "id": "580374f1-125d-4894-b57c-22cad2e44517",
   "metadata": {},
   "outputs": [],
   "source": [
    "base_url = 'http://ec2-**-***-***-**.compute-1.amazonaws.com:8888/'"
   ]
  },
  {
   "cell_type": "code",
   "execution_count": 25,
   "id": "1021106d-87c8-4510-8c1a-1bd03edd13b6",
   "metadata": {},
   "outputs": [
    {
     "name": "stdout",
     "output_type": "stream",
     "text": [
      "...\n",
      "request successful\n",
      "...\n",
      "[1]\n"
     ]
    }
   ],
   "source": [
    "response = r.post(base_url + \"predict\", json = test)\n",
    "if response.status_code == 200:\n",
    "    print('...')\n",
    "    print('request successful')\n",
    "    print('...')\n",
    "    print(response.json())\n",
    "else:\n",
    "    print('request failed')"
   ]
  },
  {
   "cell_type": "markdown",
   "id": "555307ce-ce55-4b10-a0f5-0671d05d36ba",
   "metadata": {},
   "source": [
    "# Model Precision"
   ]
  },
  {
   "cell_type": "code",
   "execution_count": 84,
   "id": "77c441c7-039a-4a2e-81f1-6690b8e2e228",
   "metadata": {},
   "outputs": [
    {
     "data": {
      "text/plain": [
       "<sklearn.metrics._plot.confusion_matrix.ConfusionMatrixDisplay at 0x127450fa0>"
      ]
     },
     "execution_count": 84,
     "metadata": {},
     "output_type": "execute_result"
    },
    {
     "data": {
      "image/png": "[encoded data removed]",
      "text/plain": [
       "<Figure size 432x288 with 2 Axes>"
      ]
     },
     "metadata": {
      "needs_background": "light"
     },
     "output_type": "display_data"
    }
   ],
   "source": [
    "plot_confusion_matrix(model, X_test, y_test)"
   ]
  },
  {
   "cell_type": "code",
   "execution_count": 85,
   "id": "a1b5ddb8-1cfa-454c-a323-6ca481374261",
   "metadata": {},
   "outputs": [
    {
     "name": "stdout",
     "output_type": "stream",
     "text": [
      "0.8085539714867617\n"
     ]
    }
   ],
   "source": [
    "result = model.score(X_train,y_train)\n",
    "print(result)"
   ]
  }
 ],
 "metadata": {
  "kernelspec": {
   "display_name": "Python 3",
   "language": "python",
   "name": "python3"
  },
  "language_info": {
   "codemirror_mode": {
    "name": "ipython",
    "version": 3
   },
   "file_extension": ".py",
   "mimetype": "text/x-python",
   "name": "python",
   "nbconvert_exporter": "python",
   "pygments_lexer": "ipython3",
   "version": "3.8.8"
  }
 },
 "nbformat": 4,
 "nbformat_minor": 5
}
